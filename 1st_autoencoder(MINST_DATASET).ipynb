{
  "cells": [
    {
      "cell_type": "code",
      "execution_count": 2,
      "id": "ed80d0fd",
      "metadata": {
        "id": "ed80d0fd"
      },
      "outputs": [],
      "source": [
        "from keras.models import Sequential \n",
        "from keras.layers import Dense,Conv2D,MaxPooling2D,UpSampling2D\n",
        "from keras import Input, Model\n",
        "from keras.datasets import mnist\n",
        "\n",
        "import numpy as np\n",
        "import matplotlib.pyplot as plt"
      ]
    },
    {
      "cell_type": "code",
      "execution_count": 3,
      "id": "0be3611a",
      "metadata": {
        "id": "0be3611a"
      },
      "outputs": [],
      "source": [
        "encoding_dim = 15 \n",
        "input_img = Input(shape=(784,))\n",
        "encoded = Dense(encoding_dim, activation='relu')(input_img)\n",
        "decoded = Dense(784, activation='sigmoid')(encoded)\n",
        "autoencoder = Model(input_img, decoded)"
      ]
    },
    {
      "cell_type": "code",
      "execution_count": 4,
      "id": "25c069d5",
      "metadata": {
        "id": "25c069d5",
        "outputId": "901a3085-f726-4ec8-d60e-95b3eb4963a9",
        "colab": {
          "base_uri": "https://localhost:8080/"
        }
      },
      "outputs": [
        {
          "output_type": "stream",
          "name": "stdout",
          "text": [
            "Model: \"model\"\n",
            "_________________________________________________________________\n",
            " Layer (type)                Output Shape              Param #   \n",
            "=================================================================\n",
            " input_1 (InputLayer)        [(None, 784)]             0         \n",
            "                                                                 \n",
            " dense (Dense)               (None, 15)                11775     \n",
            "                                                                 \n",
            " dense_1 (Dense)             (None, 784)               12544     \n",
            "                                                                 \n",
            "=================================================================\n",
            "Total params: 24,319\n",
            "Trainable params: 24,319\n",
            "Non-trainable params: 0\n",
            "_________________________________________________________________\n"
          ]
        }
      ],
      "source": [
        "autoencoder.summary()"
      ]
    },
    {
      "cell_type": "code",
      "execution_count": 5,
      "id": "fda8e082",
      "metadata": {
        "id": "fda8e082"
      },
      "outputs": [],
      "source": [
        "encoder = Model(input_img, encoded)\n",
        "encoded_input = Input(shape=(encoding_dim,))\n",
        "\n",
        "decoder_layer = autoencoder.layers[-1]\n",
        "\n",
        "decoder = Model(encoded_input, decoder_layer(encoded_input))"
      ]
    },
    {
      "cell_type": "code",
      "execution_count": 6,
      "id": "f97d99c6",
      "metadata": {
        "id": "f97d99c6"
      },
      "outputs": [],
      "source": [
        "autoencoder.compile(optimizer='adam', loss='binary_crossentropy')"
      ]
    },
    {
      "cell_type": "code",
      "execution_count": 7,
      "id": "6e35cef3",
      "metadata": {
        "id": "6e35cef3",
        "outputId": "7b2a16cc-73c7-4beb-b8e2-a8476929629f",
        "colab": {
          "base_uri": "https://localhost:8080/"
        }
      },
      "outputs": [
        {
          "output_type": "stream",
          "name": "stdout",
          "text": [
            "Downloading data from https://storage.googleapis.com/tensorflow/tf-keras-datasets/mnist.npz\n",
            "11490434/11490434 [==============================] - 0s 0us/step\n"
          ]
        }
      ],
      "source": [
        "(x_train, y_train), (x_test, y_test) = mnist.load_data()"
      ]
    },
    {
      "cell_type": "code",
      "execution_count": 8,
      "id": "f4ff6d20",
      "metadata": {
        "id": "f4ff6d20",
        "outputId": "549524cc-ddbb-41df-df1a-99d8a1c01fec",
        "colab": {
          "base_uri": "https://localhost:8080/"
        }
      },
      "outputs": [
        {
          "output_type": "stream",
          "name": "stdout",
          "text": [
            "(60000, 784)\n",
            "(10000, 784)\n"
          ]
        }
      ],
      "source": [
        "x_train = x_train.astype('float32') / 255.\n",
        "x_test = x_test.astype('float32') / 255.\n",
        "x_train = x_train.reshape((len(x_train), np.prod(x_train.shape[1:])))\n",
        "x_test = x_test.reshape((len(x_test), np.prod(x_test.shape[1:])))\n",
        "print(x_train.shape)\n",
        "print(x_test.shape)"
      ]
    },
    {
      "cell_type": "code",
      "execution_count": 9,
      "id": "f3c1e662",
      "metadata": {
        "id": "f3c1e662",
        "outputId": "b09807c6-b68a-4357-edc2-14a5404ca7ae",
        "colab": {
          "base_uri": "https://localhost:8080/",
          "height": 282
        }
      },
      "outputs": [
        {
          "output_type": "execute_result",
          "data": {
            "text/plain": [
              "<matplotlib.image.AxesImage at 0x7fd3b01efca0>"
            ]
          },
          "metadata": {},
          "execution_count": 9
        },
        {
          "output_type": "display_data",
          "data": {
            "text/plain": [
              "<Figure size 432x288 with 1 Axes>"
            ],
            "image/png": "[encoded data removed]"
          },
          "metadata": {
            "needs_background": "light"
          }
        }
      ],
      "source": [
        "plt.imshow(x_train[0].reshape(28,28))"
      ]
    },
    {
      "cell_type": "code",
      "execution_count": 10,
      "id": "b423df29",
      "metadata": {
        "id": "b423df29",
        "outputId": "f6c5fb74-9de3-44d0-f5f0-12d15f67c3f8",
        "colab": {
          "base_uri": "https://localhost:8080/"
        }
      },
      "outputs": [
        {
          "output_type": "stream",
          "name": "stdout",
          "text": [
            "Epoch 1/15\n",
            "235/235 [==============================] - 4s 5ms/step - loss: 0.3110 - val_loss: 0.2137\n",
            "Epoch 2/15\n",
            "235/235 [==============================] - 1s 4ms/step - loss: 0.1960 - val_loss: 0.1799\n",
            "Epoch 3/15\n",
            "235/235 [==============================] - 1s 4ms/step - loss: 0.1721 - val_loss: 0.1625\n",
            "Epoch 4/15\n",
            "235/235 [==============================] - 1s 4ms/step - loss: 0.1585 - val_loss: 0.1522\n",
            "Epoch 5/15\n",
            "235/235 [==============================] - 1s 4ms/step - loss: 0.1510 - val_loss: 0.1470\n",
            "Epoch 6/15\n",
            "235/235 [==============================] - 1s 4ms/step - loss: 0.1470 - val_loss: 0.1441\n",
            "Epoch 7/15\n",
            "235/235 [==============================] - 1s 4ms/step - loss: 0.1447 - val_loss: 0.1422\n",
            "Epoch 8/15\n",
            "235/235 [==============================] - 1s 4ms/step - loss: 0.1429 - val_loss: 0.1407\n",
            "Epoch 9/15\n",
            "235/235 [==============================] - 1s 4ms/step - loss: 0.1415 - val_loss: 0.1393\n",
            "Epoch 10/15\n",
            "235/235 [==============================] - 1s 4ms/step - loss: 0.1402 - val_loss: 0.1382\n",
            "Epoch 11/15\n",
            "235/235 [==============================] - 1s 4ms/step - loss: 0.1390 - val_loss: 0.1371\n",
            "Epoch 12/15\n",
            "235/235 [==============================] - 1s 4ms/step - loss: 0.1380 - val_loss: 0.1361\n",
            "Epoch 13/15\n",
            "235/235 [==============================] - 1s 4ms/step - loss: 0.1370 - val_loss: 0.1352\n",
            "Epoch 14/15\n",
            "235/235 [==============================] - 1s 4ms/step - loss: 0.1362 - val_loss: 0.1344\n",
            "Epoch 15/15\n",
            "235/235 [==============================] - 1s 4ms/step - loss: 0.1355 - val_loss: 0.1338\n"
          ]
        },
        {
          "output_type": "execute_result",
          "data": {
            "text/plain": [
              "<keras.callbacks.History at 0x7fd3b0121040>"
            ]
          },
          "metadata": {},
          "execution_count": 10
        }
      ],
      "source": [
        "autoencoder.fit(x_train, x_train, epochs=15, batch_size=256,validation_data=(x_test, x_test))"
      ]
    },
    {
      "cell_type": "code",
      "execution_count": 11,
      "id": "a8e5dda1",
      "metadata": {
        "id": "a8e5dda1",
        "outputId": "73d45cd6-4df2-47b4-8820-59f9847622e3",
        "colab": {
          "base_uri": "https://localhost:8080/"
        }
      },
      "outputs": [
        {
          "output_type": "stream",
          "name": "stdout",
          "text": [
            "313/313 [==============================] - 0s 1ms/step\n"
          ]
        }
      ],
      "source": [
        "encoded_img = encoder.predict(x_test)"
      ]
    },
    {
      "cell_type": "code",
      "execution_count": 12,
      "id": "5feaefb7",
      "metadata": {
        "id": "5feaefb7",
        "outputId": "9384ebc8-d886-4d63-aadc-964369d1631f",
        "colab": {
          "base_uri": "https://localhost:8080/",
          "height": 270
        }
      },
      "outputs": [
        {
          "output_type": "execute_result",
          "data": {
            "text/plain": [
              "<matplotlib.image.AxesImage at 0x7fd33e2413d0>"
            ]
          },
          "metadata": {},
          "execution_count": 12
        },
        {
          "output_type": "display_data",
          "data": {
            "text/plain": [
              "<Figure size 432x288 with 1 Axes>"
            ],
            "image/png": "[encoded data removed]"
          },
          "metadata": {
            "needs_background": "light"
          }
        }
      ],
      "source": [
        "plt.imshow(encoded_img[0].reshape(3,5))"
      ]
    },
    {
      "cell_type": "code",
      "execution_count": 13,
      "id": "c3d225ce",
      "metadata": {
        "id": "c3d225ce",
        "outputId": "a2b8c3c6-c2f9-4121-9a97-6c8cfb0001ca",
        "colab": {
          "base_uri": "https://localhost:8080/"
        }
      },
      "outputs": [
        {
          "output_type": "stream",
          "name": "stdout",
          "text": [
            "313/313 [==============================] - 0s 1ms/step\n"
          ]
        }
      ],
      "source": [
        "decoded_img = decoder.predict(encoded_img)"
      ]
    },
    {
      "cell_type": "code",
      "execution_count": null,
      "id": "07387254",
      "metadata": {
        "id": "07387254",
        "outputId": "e6138a29-288b-41eb-e74c-40b8e7db539a"
      },
      "outputs": [
        {
          "data": {
            "text/plain": [
              "<matplotlib.image.AxesImage at 0x1efd9ad6130>"
            ]
          },
          "execution_count": 23,
          "metadata": {},
          "output_type": "execute_result"
        },
        {
          "data": {
            "image/png": "[encoded data removed]",
            "text/plain": [
              "<Figure size 432x288 with 1 Axes>"
            ]
          },
          "metadata": {
            "needs_background": "light"
          },
          "output_type": "display_data"
        }
      ],
      "source": [
        "plt.imshow(decoded_img [0].reshape(28,28))"
      ]
    },
    {
      "cell_type": "code",
      "execution_count": null,
      "id": "412d2aed",
      "metadata": {
        "id": "412d2aed"
      },
      "outputs": [],
      "source": []
    },
    {
      "cell_type": "code",
      "execution_count": null,
      "id": "b01e95e6",
      "metadata": {
        "id": "b01e95e6"
      },
      "outputs": [],
      "source": []
    },
    {
      "cell_type": "code",
      "execution_count": null,
      "id": "9fa42f07",
      "metadata": {
        "id": "9fa42f07"
      },
      "outputs": [],
      "source": []
    },
    {
      "cell_type": "code",
      "execution_count": null,
      "id": "9189b1f2",
      "metadata": {
        "id": "9189b1f2"
      },
      "outputs": [],
      "source": []
    },
    {
      "cell_type": "code",
      "execution_count": null,
      "id": "0423ffb0",
      "metadata": {
        "id": "0423ffb0"
      },
      "outputs": [],
      "source": []
    },
    {
      "cell_type": "code",
      "execution_count": null,
      "id": "ee4337b5",
      "metadata": {
        "id": "ee4337b5"
      },
      "outputs": [],
      "source": []
    },
    {
      "cell_type": "code",
      "execution_count": null,
      "id": "0da83192",
      "metadata": {
        "id": "0da83192"
      },
      "outputs": [],
      "source": []
    },
    {
      "cell_type": "code",
      "execution_count": null,
      "id": "edd7cc7e",
      "metadata": {
        "id": "edd7cc7e"
      },
      "outputs": [],
      "source": []
    },
    {
      "cell_type": "code",
      "execution_count": null,
      "id": "fc7fac4d",
      "metadata": {
        "id": "fc7fac4d"
      },
      "outputs": [],
      "source": []
    }
  ],
  "metadata": {
    "kernelspec": {
      "display_name": "Python 3 (ipykernel)",
      "language": "python",
      "name": "python3"
    },
    "language_info": {
      "codemirror_mode": {
        "name": "ipython",
        "version": 3
      },
      "file_extension": ".py",
      "mimetype": "text/x-python",
      "name": "python",
      "nbconvert_exporter": "python",
      "pygments_lexer": "ipython3",
      "version": "3.8.0"
    },
    "colab": {
      "provenance": []
    },
    "accelerator": "GPU",
    "gpuClass": "standard"
  },
  "nbformat": 4,
  "nbformat_minor": 5
}